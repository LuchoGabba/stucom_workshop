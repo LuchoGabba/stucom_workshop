{
 "cells": [
  {
   "cell_type": "markdown",
   "metadata": {},
   "source": [
    "# NDVI Calculation\n",
    "\n",
    "You will work with high-quality satellite imagery from Sentinel to display both the **Red (R)** and **Near-InfraRed (NIR)** bands for a specific area (rather a very small one, such as $100\\text{ m}^2$).\n",
    "\n",
    "Please complete the first section (**Setup**) before the workshop starts.\n",
    "\n",
    "## Setup\n",
    "\n",
    "1. Ensure your project directory is properly organized.\n",
    "\n",
    "        project-directory/\n",
    "        │\n",
    "        ├── Images/\n",
    "        │\n",
    "        ├── raw/\n",
    "        │   ├── ndvi/\n",
    "        │   ├── ndwi/\n",
    "        │   └── time_series/\n",
    "        │\n",
    "        └── script.py\n",
    "\n",
    "        We will use the raw/ folder to store input raster files (Sentinel TIFF images).\n",
    "\n",
    "\n",
    "2. Ensure that the necessary libraries are installed and configured in your Python environment."
   ]
  },
  {
   "cell_type": "code",
   "execution_count": null,
   "metadata": {},
   "outputs": [],
   "source": [
    "# Install required packages (uncomment to install if needed)\n",
    "# !pip install rasterio numpy matplotlib\n",
    "# Import libraries\n",
    "import rasterio\n",
    "import numpy as np\n",
    "from pathlib import Path\n",
    "import matplotlib.pyplot as plt\n",
    "import re\n",
    "\n",
    "# Print versions of the libraries to ensure compatibility\n",
    "print(f\"Rasterio version: {rasterio.__version__}\")\n",
    "print(f\"Numpy version: {np.__version__}\")"
   ]
  },
  {
   "cell_type": "markdown",
   "metadata": {},
   "source": [
    "These resources provide comprehensive information on usage, functions, and examples for each library:\n",
    "\n",
    "- [**rasterio**](https://rasterio.readthedocs.io/): For reading and processing raster data\n",
    "- [**numpy**](https://numpy.org/doc/): For numerical operations\n",
    "- [**pathlib**](https://docs.python.org/3/library/pathlib.html): For handling file paths\n",
    "- [**matplotlib**](https://matplotlib.org/stable/contents.html): For data visualization\n",
    "- [**re (Regular Expressions)**](https://docs.python.org/3/library/re.html): For handling regular expressions"
   ]
  },
  {
   "cell_type": "markdown",
   "metadata": {},
   "source": [
    "## Step-by-Step Guide for Geospatial Analysis\n",
    "\n",
    "### Step 1: Accessing Sentinel Imagery\n",
    "\n",
    "- **[SentiWiki](https://sentiwiki.copernicus.eu/web/sentiwiki)** will help you choose a satelite for getting the data. \n",
    "- Once selected, visit the [Copernicus Open Access Hub](https://dataspace.copernicus.eu/) to access the data.\n",
    "- Which bands do you need for an NDVI analysis?\n",
    "- Start downloading single data. Choose an area of Interest (Crop to AOI)."
   ]
  },
  {
   "cell_type": "markdown",
   "metadata": {},
   "source": [
    "### Step 2: Download Bands\n",
    "\n",
    "Identify and download the required bands for calculating the **NDVI**. Ensure to:\n",
    "\n",
    "- You can use coordinates (latitude and longitude) to define the exact location.\n",
    "- Select the **TIFF** format with **16-bit** depth.\n",
    "- Choose a **MEDIUM** (682 x 413 px is automatically set) resolution suitable for your analysis.\n",
    "- You can use `pathlib` library to manipulate files. Load the data and characterize it.\n",
    "- Discuss what px refers to.\n",
    "\n",
    "**A Raster File:**\n",
    "\n",
    "A raster file is an image file that contains data organized in a grid of cells, often representing geographic data. In satellite imagery, each cell (or pixel) in the grid has a specific value that can represent various physical characteristics, such as light reflectance in different bands (e.g., Red, NIR, Blue, Green, etc.).\n",
    "\n",
    "The `.tiff` files (often GeoTIFF format) commonly used in remote sensing contain such raster data. They typically include metadata that describes the spatial reference, coordinate system, and the specific bands of data (like B4 for Red and B8 for NIR in Sentinel-2 imagery).\n",
    "\n",
    "**How deep do you want to go?** \n",
    "\n",
    "- You can download the data from the GUI or develop a Python API.\n",
    "- Load and analyze the contet of the data. \n",
    "- Examine various attributes of the dataset object to understand its structure and properties: `type(src).__name__`, `src.width`, `src.height`, `src.crs`, `src.count`, `src.meta`.\n",
    "- Particularly understand `type(src.read()).__name__`. Check the putputs of `src.read().shape` and `src.read(1).shape`."
   ]
  },
  {
   "cell_type": "code",
   "execution_count": null,
   "metadata": {},
   "outputs": [],
   "source": [
    "# Get data from Sentinel-2 L2A\n",
    "directory_path = Path('raw/ndvi')\n",
    "# Gey TIFF files names\n",
    "for file_path in directory_path.glob(\"*.tiff\"):\n",
    "    print(file_path)\n",
    "print('-'*20)\n",
    "\n",
    "for file_path in directory_path.glob(\"*B*.tiff\"):\n",
    "    print('Choose a file:')\n",
    "    print(file_path)\n",
    "    file_path = file_path\n",
    "print('*'*20)\n",
    "\n",
    "# Type the solution here:\n",
    "# ............................\n"
   ]
  },
  {
   "cell_type": "markdown",
   "metadata": {},
   "source": [
    "### Step 3: Explore, Characterize and Visualize the Data\n",
    "\n",
    "Begin by defining a function that reads a band from a .tiff file and returns both the band data and its metadata. You can use Rasterio again; the Python library designed for reading and writing geospatial raster data. Rasterio provides tools to work with GeoTIFF files efficiently and integrates well with other geospatial libraries like NumPy. Convert the data to ‘float32’, as it will be required for further calculations. Refer to the function’s docstring for guidance.\n",
    "\n",
    "Try the function.\n",
    "\n",
    "After implementing this function, complete the subsequent cell to understand the outputs of `.min()`, `.max()` and `.shape`. This will provide insight into the data you’re handling. \n",
    "\n",
    "Finally, visualize the bands to gain a comprehensive understanding of the dataset. You can use `.imshow()` combined with a suitable `cmap=\"RdYlGn\"` to display the images side by side. Activate the `axis` and explain. Interpret the bands (see below)."
   ]
  },
  {
   "cell_type": "code",
   "execution_count": 3,
   "metadata": {},
   "outputs": [],
   "source": [
    "def read_band(filename):\n",
    "    \"\"\"\n",
    "    Reads a the first band of the file from a TIFF file.\n",
    "    - Parameters:\n",
    "        file_path (Path or str): Full path to the file.\n",
    "    - Returns: tuple, (band_data, metadata)\n",
    "        band_data (numpy.ndarray): NumPy array of the band values, converted to float32.\n",
    "        metadata (dict): Metadata of the file.\n",
    "    \"\"\"\n",
    "\n",
    "    # Type the solution here:\n",
    "    #........................\n"
   ]
  },
  {
   "cell_type": "code",
   "execution_count": 4,
   "metadata": {},
   "outputs": [],
   "source": [
    "# Try the function here:\n",
    "#......................."
   ]
  },
  {
   "cell_type": "code",
   "execution_count": null,
   "metadata": {},
   "outputs": [],
   "source": [
    "directory_path = Path('raw/ndvi')\n",
    "\n",
    "for file_path in directory_path.glob(\"*.tiff\"):\n",
    "    print(file_path.name)\n",
    "\n",
    "    if \"B08\" in file_path.name:  # Check if the file corresponds to B08\n",
    "        B08, _ = read_band(file_path)\n",
    "        \n",
    "        # Complete the code below:\n",
    "        #.........................\n",
    "        print(f\"- Band shape:\", ##COMPLETE THE CODE HERE##)\n",
    "        print('- B8 max', ##COMPLETE THE CODE HERE##)\n",
    "        print('- B8 min', ##COMPLETE THE CODE HERE##) \n",
    "        print('')\n",
    "\n",
    "    elif \"B04\" in file_path.name:  # Check if the file corresponds to B04\n",
    "        B04, _ = read_band(file_path)\n",
    "        \n",
    "        # Complete the code below:\n",
    "        #.........................\n",
    "        print(f\"Band shape:\", ##COMPLETE THE CODE HERE##)\n",
    "        print('- $4 max', ##COMPLETE THE CODE HERE##)\n",
    "        print('- b4 min', ##COMPLETE THE CODE HERE##)\n"
   ]
  },
  {
   "cell_type": "code",
   "execution_count": null,
   "metadata": {},
   "outputs": [],
   "source": [
    "# Visualize both bands side by side\n",
    "# Type the solution here:\n",
    "# .......................\n"
   ]
  },
  {
   "cell_type": "markdown",
   "metadata": {},
   "source": [
    "#### What are these Red and NIR bands?\n",
    "\n",
    "In remote sensing, Red and NIR are two specific regions of the light spectrum captured by sensors on satellites (or drones):\n",
    "\n",
    "- **Red Band** measures the reflectance in the visible red light spectrum (*600–700* nm in wavelength). Vegetation absorbs most of this red light for photosynthesis (**lower values**), making it a key indicator of plant health. In other words, the amount of red light reflected is inversely related to the amount of chlorophyll in the plants. Bare soil or non-vegetated areas reflect more red light (**higher values**). Check sand and water.\n",
    "\n",
    "- **Near-InfraRed Band** captures the region of light that is just beyond the visible spectrum (*700–1000* nm). Healthy vegetation reflects a large amount of NIR light, as it is not used in photosynthesis. This high reflectance (**higher values**) in the NIR band is a characteristic of healthy, dense vegetation."
   ]
  },
  {
   "cell_type": "markdown",
   "metadata": {},
   "source": [
    "# ![Light Spectrum](Images/Light_Spectrum.png)\n",
    "\n",
    "Bands are often scaled reflectance values ranging from 0 to a certain maximum."
   ]
  },
  {
   "cell_type": "markdown",
   "metadata": {},
   "source": [
    "### Step 4: NDVI calculation\n",
    "\n",
    "The **Normalized Difference Vegetation Index (NDVI)** is a widely used index in agriculture and land-classification when using remote sensing to analyze vegetation health and land cover. \n",
    "\n",
    "NDVI is calculated based on the reflectance of light in the **Red (R)** and **Near-InfraRed (NIR)** bands. Healthy vegetation absorbs most of the visible light (particularly red) and reflects a significant amount of NIR light, while unhealthy or sparse vegetation, and human-made surfaces, reflect more R and less NIR.\n",
    "\n",
    "#### Formula\n",
    "\n",
    "**NDVI always ranges from -1 to +1**, and it is calculated with the the NIR and Red channels as follows:\n",
    "\n",
    "$$\\text{NDVI} = \\frac{(\\text{NIR} - \\text{RED})}{(\\text{NIR} + \\text{RED})}\\qquad\\qquad(1)$$\n",
    "\n",
    "where:\n",
    "- **NIR** is the reflectance in the near-infrared band,\n",
    "- **RED** is the reflectance in the red band.\n",
    "\n",
    "The result is a value between -1 and 1:\n",
    "- **Values closer to 1** indicate dense, healthy vegetation.\n",
    "- **Values closer to -1** suggest non-vegetative surfaces, such as water, urban areas, or bare soil.\n",
    "- **Values around 0** indicate sparse vegetation or soil.\n",
    "\n",
    "#### Applications\n",
    "NDVI is used to:\n",
    "1. **Monitor Vegetation Health**: Detecting stressed or unhealthy vegetation.\n",
    "2. **Track Seasonal Changes**: Identifying trends in vegetation over time.\n",
    "3. **Assess Land Use**: Evaluating changes in vegetation cover for land management.\n",
    "\n",
    "#### Calculate the NDVI with the previous bands analyzed\n",
    "\n",
    "- **Check for Division by Zero:** Ensure that  $\\text{NIR} + \\text{RED} \\neq 0$  to prevent division by zero errors.\n",
    "- **Compute the NDVI:** Calculate the NDVI using the formula (1). What is the expected size of the NDVI array?\n",
    "- **Print NDVI Characteristics:** After computing the NDVI, print its shape, minimum, and maximum values to understand the data range and dimensions.\n",
    "- **Visualize NDVI:** Create a visual representation of the NDVI array to interpret vegetation health."
   ]
  },
  {
   "cell_type": "code",
   "execution_count": null,
   "metadata": {},
   "outputs": [],
   "source": [
    "# Check if any values of nir + red are 0\n",
    "sum_nir_red = B08 + B04  # Perform the addition\n",
    "\n",
    "# Complete the code below:\n",
    "#.........................\n",
    "zeros_exist =  # Check if any value is 0\n",
    "\n",
    "print(zeros_exist)"
   ]
  },
  {
   "cell_type": "code",
   "execution_count": null,
   "metadata": {},
   "outputs": [],
   "source": [
    "# Calculate & Plot NDVI\n",
    "# Type the solution here:\n",
    "# .......................\n"
   ]
  },
  {
   "cell_type": "markdown",
   "metadata": {},
   "source": [
    "### Step 5: Additional Indices\n",
    "\n",
    "Beyond NDVI, various other indices can be derived from processed satellite data to analyze different environmental parameters. One such index is the **Normalized Difference Water Index (NDWI)**, which is particularly useful for monitoring water bodies.\n",
    "\n",
    "The NDWI is designed to enhance the presence of water features while suppressing the influence of vegetation and soil. It is calculated using the **Green (B03)** and **Near-Infrared (NIR, B08)** bands with the following formula:\n",
    "\n",
    "$$\\text{NDWI} = \\frac{\\text{Green} - \\text{NIR}}{\\text{Green} + \\text{NIR}} \\qquad\\qquad(2)$$\n",
    "\n",
    "In this formula, water has low reflectance in NIR (B08) but higher reflectance in Green (B03 - 559 nm).\n",
    "\n",
    "Values of NDWI range from -1 to 1: positive values typically indicate the presence of water bodies; negative values correspond to soil, or built-up areas.\n",
    "\n",
    "- Get two images from a water reservoir, such as the Pantà de la Llosa del Cavall in Sant Llorenç de Morunys, Spain.\n",
    "\n",
    "- Choose images where the water level difference between them is expected to be significant (winter/summer).\n",
    "\n",
    "- Complete the function `store_images` to manipulate data into a dictionary (`dict`).\n",
    "\n",
    "- Visualize the NDWI for both images and analyze the differences between the two dates."
   ]
  },
  {
   "cell_type": "code",
   "execution_count": 9,
   "metadata": {},
   "outputs": [],
   "source": [
    "def store_images(file_path, images):\n",
    "    \"\"\"\n",
    "    Reads and stores image data and metadata into a dictionary.\n",
    "\n",
    "    Parameters:\n",
    "        file_path (Path): Full path to the image file.\n",
    "        images (dict): Dictionary to store image data.\n",
    "\n",
    "    Returns:\n",
    "        None: Updates the 'images' dictionary in place.\n",
    "    \"\"\"\n",
    "\n",
    "    images[file_path] = {\n",
    "            \"data\": # Read data. \n",
    "            \"metadata\": # Read metadata. You have a function for doing both :)\n",
    "            \"date\": # Extract the date from file_path.name\n",
    "        }\n",
    "    \n",
    "    print(f\"Loaded {file_path.name} with date: {images[file_path]['date']}\")"
   ]
  },
  {
   "cell_type": "code",
   "execution_count": null,
   "metadata": {},
   "outputs": [],
   "source": [
    "# Path to the directory containing the images\n",
    "directory_path = Path('raw/ndwi')\n",
    "\n",
    "# Dictionary to store loaded images\n",
    "images = {}\n",
    "\n",
    "# Iterate over the files in the directory\n",
    "for file_path in directory_path.glob(\"*.tiff\"):\n",
    "    # Complete the code below:\n",
    "    #.........................\n",
    "\n",
    "\n",
    "# Check contents of the dictionary\n",
    "\n"
   ]
  },
  {
   "cell_type": "code",
   "execution_count": null,
   "metadata": {},
   "outputs": [],
   "source": [
    "# Plot NDVI\n",
    "# Type the solution here:\n",
    "# ......................."
   ]
  },
  {
   "cell_type": "markdown",
   "metadata": {},
   "source": [
    "### Step 6: Operations Over Images\n",
    "\n",
    "#### Thresholding NDWI to Isolate Water Bodies\n",
    "\n",
    "- Analyze the computed NDWI values to understand their range.\n",
    "- Play with the code below and understand how masks works. If you have an array such as: `[0.15, 0.05, 0.30, 0.20]`, you will obtain `[F, F, T, T]`, if a `threshold = 0.15` is chosen.\n",
    "- Implement a function that apply a threshold to classify pixels as water or non-water (binary water mask).           \n",
    "- Visualize the results.\n",
    "\n",
    "- Key Questions:\n",
    "\n",
    "    - What happens when you lower or raise the threshold value?\n",
    "    - Are there any misclassifications (e.g., areas incorrectly identified as water)?"
   ]
  },
  {
   "cell_type": "code",
   "execution_count": null,
   "metadata": {},
   "outputs": [],
   "source": [
    "ndvi_real = np.array([0.15, 0.05, 0.30, 0.20])\n"
   ]
  },
  {
   "cell_type": "code",
   "execution_count": 13,
   "metadata": {},
   "outputs": [],
   "source": [
    "def apply_mask(data, threshold=1000):\n",
    "    \"\"\"\n",
    "    Applies a mask to the data based on a threshold.\n",
    "\n",
    "    Parameters:\n",
    "        data (numpy.ndarray): The NDWI data to mask.\n",
    "        threshold (float): The value above which pixels are considered water.\n",
    "\n",
    "    Returns:\n",
    "        numpy.ndarray: Binary mask with True for values above the threshold.\n",
    "    \"\"\"\n"
   ]
  },
  {
   "cell_type": "code",
   "execution_count": null,
   "metadata": {},
   "outputs": [],
   "source": [
    "# Create a 2x2 grid for visualization\n"
   ]
  },
  {
   "cell_type": "markdown",
   "metadata": {},
   "source": [
    "#### Image Subtraction for Change Detection\n",
    "\n",
    "In remote sensing, comparing images from different time periods can help us monitor changes in environmental features, such as water levels in reservoirs. By subtracting one image from another, we can highlight changes over time and quantify the extent of these changes. Subtract the earlier NDWI image from the later NDWI image:\n",
    "\n",
    "\n",
    "$$\\text{Change} = \\text{NDWI}{(\\text{later})} - \\text{NDWI}{(\\text{earlier})}$$\n",
    "\n",
    "Positive values indicate an increase in water levels, while negative values highlight a decrease in water levels.\n",
    "\n",
    "The resulting image shows areas where water levels have changed, helping us understand the extent of drying or flooding in a reservoir.\n",
    "\n",
    "**Can You Subtract Two Masked Images? What Would You Expect to See?**"
   ]
  },
  {
   "cell_type": "code",
   "execution_count": null,
   "metadata": {},
   "outputs": [],
   "source": [
    "# Type the code here:"
   ]
  },
  {
   "cell_type": "markdown",
   "metadata": {},
   "source": [
    "### Step 7: NDVI Analysis for Multiple Files (time series)\n",
    "\n",
    "1. Start with a single image and track vegetation over time:\n",
    "    - Open and visualize the **NDVI** for one file.\n",
    "    - Adjust the NDVI values to the interval [-1, 1], mapping the available values appropriately.\n",
    "    - Show both the raw and normalized NDVI images side by side for comparison.\n",
    "    - Calculate vegetation metrics for each image:\n",
    "        - **Mean NDVI:** Represents the average vegetation level for the area.\n",
    "        - **Median NDVI:** Provides a robust measure, less sensitive to extreme values.\n",
    "        - **High Vegetation Percentage:** Percentage of pixels with NDVI above a threshold (e.g., NDVI > 0.6).\n",
    "\n",
    "2. Visualize NDVI Over Multiple Years:\n",
    "    - Represent 9 images from 2016 to 2024 in a 3x3 grid. Use consistent colormap scaling (-1 to 1) for easy comparison.\n",
    "    - Compute the different metrics for each image.\n",
    "    - Compile the metrics for all years into a dataset.\n",
    "    - Create a line graph to show trends across the time series:\n",
    "\t    - X-axis: Years (2016–2024).\n",
    "\t    - Y-axis: NDVI metrics (Mean, Median, and High Vegetation Percentage).\n",
    "    - Analyze temporal trends in vegetation health.\n",
    "\n",
    "3. Key Questions:\n",
    "    - How has vegetation evolved from 2016 to 2024?\n",
    "    - Are there clear trends (e.g., recovery, degradation, or seasonality)?\n",
    "    - What do the metrics reveal about the overall health of the area?"
   ]
  },
  {
   "cell_type": "code",
   "execution_count": 16,
   "metadata": {},
   "outputs": [],
   "source": [
    "# Function to normalize NDVI\n",
    "def normalize_ndvi(ndvi_raw):\n",
    "    \n",
    "\n",
    "# Function to calculate NDVI metrics\n",
    "def calculate_metrics(ndvi_normalized, thresholds=[0.5, 0.6, 0.7]):\n",
    "    "
   ]
  },
  {
   "cell_type": "code",
   "execution_count": null,
   "metadata": {},
   "outputs": [],
   "source": [
    "# Root directory\n",
    "directory_path = Path('raw/time_series')\n"
   ]
  },
  {
   "cell_type": "markdown",
   "metadata": {},
   "source": [
    "Mask to copmute only pixel above the threshold:"
   ]
  },
  {
   "cell_type": "code",
   "execution_count": null,
   "metadata": {},
   "outputs": [],
   "source": [
    "ndvi_real = np.array([[0.15, 0.05, 0.30, 0.20],\n",
    "                      [0.10, 0.35, 0.20, 0.20]])\n",
    "print('Array:\\n', ndvi_real)\n",
    "mask = \n",
    "print('Mask:\\n', mask)\n",
    "filtered_values = \n",
    "print('Filtered values:', filtered_values)\n",
    "print('Filtered values mean:', filtered_values.mean())"
   ]
  },
  {
   "cell_type": "code",
   "execution_count": null,
   "metadata": {},
   "outputs": [],
   "source": [
    "# Variables to store NDVI mean values\n"
   ]
  },
  {
   "cell_type": "code",
   "execution_count": null,
   "metadata": {},
   "outputs": [],
   "source": [
    "# Plot NDVIs averages vs. year\n"
   ]
  }
 ],
 "metadata": {
  "kernelspec": {
   "display_name": "Quilimanjaro",
   "language": "python",
   "name": "python3"
  },
  "language_info": {
   "codemirror_mode": {
    "name": "ipython",
    "version": 3
   },
   "file_extension": ".py",
   "mimetype": "text/x-python",
   "name": "python",
   "nbconvert_exporter": "python",
   "pygments_lexer": "ipython3",
   "version": "3.9.18"
  }
 },
 "nbformat": 4,
 "nbformat_minor": 2
}
